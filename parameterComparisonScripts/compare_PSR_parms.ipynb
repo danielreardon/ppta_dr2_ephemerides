{
 "cells": [
  {
   "cell_type": "code",
   "execution_count": 1,
   "metadata": {},
   "outputs": [],
   "source": [
    "import sys, glob, copy, argparse\n",
    "from os import path\n",
    "import yaml\n",
    "import numpy as NP\n",
    "import numpy.ma as MA\n",
    "from astropy.io import ascii\n",
    "from astropy.table import Table, Column\n",
    "from astropy import units as U\n",
    "from astropy.coordinates import SkyCoord\n",
    "import matplotlib.pyplot as PLT\n",
    "from IPython.core.debugger import set_trace\n",
    "%matplotlib inline\n",
    "\n",
    "sys.path.append('../tableScripts')\n",
    "import readParFile"
   ]
  },
  {
   "cell_type": "markdown",
   "metadata": {},
   "source": [
    "## Read input file containing parameters for the script"
   ]
  },
  {
   "cell_type": "code",
   "execution_count": 2,
   "metadata": {},
   "outputs": [
    {
     "name": "stdout",
     "output_type": "stream",
     "text": [
      "{'dirstruct': {'projectdir': '/fred/oz002/nthyagar/projects/dr2_ephemerides/', 'PTA_data_dir': 'PTA_DataReleases/', 'outdir': 'outputs/', 'figdir': 'figures/', 'PTA_dirinfo': {'EPTA_DR1': {'PSRdir': '/fred/oz002/nthyagar/projects/dr2_ephemerides/PTA_DataReleases/eptaDR1/EPTA_v2.2_git/'}, 'NG_11yr': {'PSRdir': '/fred/oz002/nthyagar/projects/dr2_ephemerides/PTA_DataReleases/NANOGrav_11y/par/'}, 'NG_12.5yr_NB': {'PSRdir': '/fred/oz002/nthyagar/projects/dr2_ephemerides/PTA_DataReleases/NANOGrav_12yv3/narrowband/par/'}, 'NG_12.5yr_WB': {'PSRdir': '/fred/oz002/nthyagar/projects/dr2_ephemerides/PTA_DataReleases/NANOGrav_12yv3/wideband/par/'}, 'PPTA_DR1': {'PSRdir': '/fred/oz002/nthyagar/projects/dr2_ephemerides/PTA_DataReleases/ppta15/'}, 'PPTA_DR2': {'PSRdir': '/fred/oz002/nthyagar/projects/dr2_ephemerides/publish_collection/dr2/'}, 'PPTA_DR2E': {'PSRdir': '/fred/oz002/nthyagar/projects/dr2_ephemerides/publish_collection/dr2e/'}}}, 'compareParms': {'params': ['PX'], 'PTA': ['EPTA_DR1', 'NG_11yr', 'NG_12.5yr_NB', 'NG_12.5yr_WB', 'PPTA_DR1', 'PPTA_DR2', 'PPTA_DR2E'], 'ref_PTA': 'PPTA_DR2', 'plot_PTAs': ['EPTA_DR1', 'NG_12.5yr_NB', 'PPTA_DR1', 'PPTA_DR2', 'PPTA_DR2E']}}\n"
     ]
    }
   ],
   "source": [
    "parmsfile = '/fred/oz002/nthyagar/codes/mine/python/projects/dr2e/PSR_comparison/PSR_comparison_parms.yaml'\n",
    "with open(parmsfile, 'r') as pfile:\n",
    "    parms = yaml.safe_load(pfile)\n",
    "    \n",
    "projectdir = parms['dirstruct']['projectdir']\n",
    "PTA_datadir = projectdir + parms['dirstruct']['PTA_data_dir']\n",
    "outdir = projectdir + parms['dirstruct']['outdir']\n",
    "figdir = outdir + parms['dirstruct']['figdir']\n",
    "pta_dir_info = parms['dirstruct']['PTA_dirinfo']\n",
    "print(parms)"
   ]
  },
  {
   "cell_type": "markdown",
   "metadata": {},
   "source": [
    "## Parse standard and specific (with variation) pulsar names in each PTA"
   ]
  },
  {
   "cell_type": "code",
   "execution_count": 3,
   "metadata": {},
   "outputs": [],
   "source": [
    "pta_info = {}\n",
    "for pta in pta_dir_info:\n",
    "    pta_info[pta] = {'PSRdir': pta_dir_info[pta]['PSRdir']}\n",
    "    if pta == 'EPTA_DR1':\n",
    "        path_to_parfile_names = glob.glob(pta_dir_info[pta]['PSRdir']+'*')\n",
    "        pta_info[pta]['PSRnames_simple'] = [fname_str.split('/')[-1] for fname_str in path_to_parfile_names]\n",
    "        pta_info[pta]['PSRnames_specific'] = pta_info[pta]['PSRnames_simple']\n",
    "    else:\n",
    "        path_to_parfile_names = glob.glob(pta_dir_info[pta]['PSRdir']+'*.par')\n",
    "        if 'PPTA' in pta:\n",
    "            pta_info[pta]['PSRnames_simple'] = [fname_str.split('/')[-1].split('.')[0] for fname_str in path_to_parfile_names]\n",
    "            pta_info[pta]['PSRnames_specific'] = [fname_str.split('/')[-1].split('.par')[0] for fname_str in path_to_parfile_names]\n",
    "        else:\n",
    "            pta_info[pta]['PSRnames_simple'] = [fname_str.split('/')[-1].split('_',1)[0] for fname_str in path_to_parfile_names]\n",
    "            pta_info[pta]['PSRnames_specific'] = copy.deepcopy(pta_info[pta]['PSRnames_simple'])\n",
    "            for ind,fname_str in enumerate(path_to_parfile_names):\n",
    "                if fname_str.split('/')[-1].split('.')[-2] != 'gls':\n",
    "                    append_str = fname_str.split('/')[-1].split('.')[-2]\n",
    "                    pta_info[pta]['PSRnames_specific'][ind] = pta_info[pta]['PSRnames_simple'][ind] + '.' + append_str"
   ]
  },
  {
   "cell_type": "markdown",
   "metadata": {},
   "source": [
    "## Create a sorted union of pulsar names"
   ]
  },
  {
   "cell_type": "code",
   "execution_count": 4,
   "metadata": {},
   "outputs": [
    {
     "name": "stdout",
     "output_type": "stream",
     "text": [
      "['J0023+0923', 'J0030+0451', 'J0034-0534', 'J0218+4232', 'J0340+4130', 'J0437-4715', 'J0610-2100', 'J0613-0200', 'J0621+1002', 'J0636+5128', 'J0645+5158', 'J0711-6830', 'J0740+6620', 'J0751+1807', 'J0900-3144', 'J0931-1902', 'J1012+5307', 'J1017-7156', 'J1022+1001', 'J1024-0719', 'J1045-4509', 'J1125-6014', 'J1125+7819', 'J1446-4701', 'J1453+1902', 'J1455-3330', 'J1545-4550', 'J1600-3053', 'J1603-7202', 'J1614-2230', 'J1640+2224', 'J1643-1224', 'J1713+0747', 'J1721-2457', 'J1730-2304', 'J1732-5049', 'J1738+0333', 'J1741+1351', 'J1744-1134', 'J1747-4036', 'J1751-2857', 'J1801-1417', 'J1802-2124', 'J1804-2717', 'J1824-2452A', 'J1832-0836', 'J1843-1113', 'J1853+1303', 'B1855+09', 'J1857+0943', 'J1903+0327', 'J1909-3744', 'J1910+1256', 'J1911-1114', 'J1911+1347', 'J1918-0642', 'J1923+2515', 'B1937+21', 'J1939+2134', 'J1944+0907', 'J1946+3417', 'B1953+29', 'J1955+2908', 'J2010-1323', 'J2017+0603', 'J2019+2425', 'J2033+1734', 'J2043+1711', 'J2124-3358', 'J2129-5721', 'J2145-0750', 'J2214+3000', 'J2229+2643', 'J2234+0611', 'J2234+0944', 'J2241-5236', 'J2302+4442', 'J2317+1439', 'J2322+2057']\n",
      "['J0023+0923', 'J0030+0451', 'J0034-0534', 'J0218+4232', 'J0340+4130', 'J0437-4715', 'J0610-2100', 'J0613-0200', 'J0621+1002', 'J0636+5128', 'J0645+5158', 'J0711-6830', 'J0740+6620', 'J0751+1807', 'J0900-3144', 'J0931-1902', 'J1012+5307', 'J1017-7156', 'J1017-7156.kop', 'J1017-7156.kop_alt', 'J1022+1001.kop_alt', 'J1022+1001.kop', 'J1022+1001', 'J1024-0719', 'J1045-4509', 'J1125+7819', 'J1125-6014', 'J1446-4701', 'J1453+1902', 'J1455-3330', 'J1545-4550', 'J1600-3053.kop', 'J1600-3053.kop_alt', 'J1600-3053', 'J1603-7202', 'J1614-2230', 'J1640+2224', 'J1643-1224', 'J1713+0747', 'J1713+0747.kop_alt', 'J1713+0747.kop', 'J1713+0747.t2', 'J1721-2457', 'J1730-2304', 'J1732-5049', 'J1738+0333', 'J1741+1351', 'J1744-1134', 'J1747-4036', 'J1751-2857', 'J1801-1417', 'J1802-2124', 'J1804-2717', 'J1824-2452A', 'J1832-0836', 'J1843-1113', 'J1853+1303', 'B1855+09', 'J1857+0943', 'J1903+0327', 'J1909-3744.kop_alt', 'J1909-3744.kop', 'J1909-3744', 'J1910+1256', 'J1911+1347', 'J1911-1114', 'J1918-0642', 'J1923+2515', 'B1937+21', 'J1939+2134', 'J1944+0907', 'J1946+3417', 'B1953+29', 'J1955+2908', 'J2010-1323', 'J2017+0603', 'J2019+2425', 'J2033+1734', 'J2043+1711', 'J2124-3358', 'J2129-5721', 'J2145-0750', 'J2214+3000', 'J2229+2643', 'J2234+0611', 'J2234+0944', 'J2241-5236', 'J2241-5236.basic', 'J2302+4442', 'J2317+1439', 'J2322+2057']\n"
     ]
    }
   ],
   "source": [
    "psrnames_simple_union = []\n",
    "psrnames_specific_union = []\n",
    "for pta in pta_dir_info:\n",
    "    psrnames_simple_union += pta_info[pta]['PSRnames_simple']\n",
    "    psrnames_specific_union += pta_info[pta]['PSRnames_specific']\n",
    "psrnames_simple_union = NP.asarray(list(set(psrnames_simple_union)))\n",
    "psrnames_specific_union = NP.asarray(list(set(psrnames_specific_union)))\n",
    "\n",
    "## Sort these pulsars by RA/Dec\n",
    "\n",
    "psrnames_simple_union = sorted(psrnames_simple_union, key=lambda x: ((int(x[1:5]), int(x[5:10])))) # Sort by RA-key and then by Dec-key\n",
    "psrnames_specific_union = sorted(psrnames_specific_union, key=lambda x: ((x[1:5], x[5:10]))) # Sort by RA-key and then by Dec-key\n",
    "\n",
    "print(psrnames_simple_union)\n",
    "print(psrnames_specific_union)"
   ]
  },
  {
   "cell_type": "markdown",
   "metadata": {},
   "source": [
    "## Populate the Numpy array with parameter values along with uncertainties from all PTA for all pulsars"
   ]
  },
  {
   "cell_type": "code",
   "execution_count": 5,
   "metadata": {},
   "outputs": [],
   "source": [
    "compare_parms = parms['compareParms']\n",
    "psr_parms = compare_parms['params']\n",
    "ptas = NP.asarray(compare_parms['PTA'])\n",
    "pta_psr_parm_vals = {parm: {} for parm in psr_parms}\n",
    "pta_psr_parm_vals_normratio = {parm: {} for parm in psr_parms}\n",
    "ref_pta = compare_parms['ref_PTA']\n",
    "ref_pta_ind = ptas.tolist().index(ref_pta)\n",
    "rest_pta_ind = NP.setdiff1d(NP.arange(ptas.size), ref_pta_ind)\n",
    "rest_ptas = ptas[rest_pta_ind]\n",
    "\n",
    "for parm in psr_parms:\n",
    "    outvals = NP.empty((len(psrnames_simple_union),len(ptas),2), dtype=NP.float128)\n",
    "    outvals.fill(NP.nan)\n",
    "    for ptai,pta in enumerate(ptas):\n",
    "        for psri,psr in enumerate(psrnames_simple_union):\n",
    "            if psr in pta_info[pta]['PSRnames_simple']:\n",
    "                if pta == 'EPTA_DR1':\n",
    "                    parfilename = pta_dir_info[pta]['PSRdir'] + '{0}/{0}.par'.format(psr)\n",
    "                elif pta == 'NG_11yr':\n",
    "                    parfilename = pta_dir_info[pta]['PSRdir'] + '{0}_NANOGrav_11yv1.gls.par'.format(psr)\n",
    "                elif pta == 'NG_12.5yr_NB':\n",
    "                    parfilename = pta_dir_info[pta]['PSRdir'] + '{0}_NANOGrav_12yv3.gls.par'.format(psr)\n",
    "                elif pta == 'NG_12.5yr_WB':\n",
    "                    parfilename = pta_dir_info[pta]['PSRdir'] + '{0}_NANOGrav_12yv3.wb.gls.par'.format(psr)\n",
    "                elif pta == 'PPTA_DR1':\n",
    "                    parfilename = pta_dir_info[pta]['PSRdir'] + '{0}.par'.format(psr)\n",
    "                elif (pta == 'PPTA_DR2') or (pta == 'PPTA_DR2E'):\n",
    "                    parfilename = pta_dir_info[pta]['PSRdir'] + '{0}.par'.format(psr)\n",
    "                    if not path.exists(parfilename):\n",
    "                        parfilename = pta_dir_info[pta]['PSRdir'] + '{0}.kop.par'.format(psr)\n",
    "                    if not path.exists(parfilename):\n",
    "                        parfilename = pta_dir_info[pta]['PSRdir'] + '{0}.kop_alt.par'.format(psr)                    \n",
    "                else:\n",
    "                    raise ValueError('This PTA is either not requested in processing or unavailable in the database.')\n",
    "                parmdict = readParFile.read_par(parfilename)\n",
    "                if (parm in parmdict) and (parm+'_ERR' in parmdict):\n",
    "                    pval = parmdict[parm]\n",
    "                    pvalerr = parmdict[parm+'_ERR']\n",
    "                    outvals[psri,ptai,:] = NP.asarray([pval, pvalerr], dtype=NP.float128)\n",
    "        pta_psr_parm_vals[parm][pta] = MA.array(outvals[:,ptai,:], mask=NP.isnan(outvals[:,ptai,:]))\n",
    "    pta_psr_parm_vals[parm]['all'] = MA.array(outvals, mask=NP.isnan(outvals))\n",
    "    vals_normratio = NP.zeros((len(psrnames_simple_union),len(ptas),2), dtype=NP.float128)\n",
    "    vals_normratio[:,:,0] = (outvals[:,:,0] - outvals[:,[ref_pta_ind],0]) / outvals[:,[ref_pta_ind],0]\n",
    "    vals_normratio[:,:,1] = outvals[:,:,1] / outvals[:,[ref_pta_ind],1]\n",
    "    pta_psr_parm_vals_normratio[parm]['all'] = MA.array(vals_normratio, mask=NP.isnan(vals_normratio))\n",
    "    \n",
    "    for psri,psr in enumerate(psrnames_simple_union):\n",
    "        pta_psr_parm_vals[parm][psr] = MA.array(outvals[psri,:,:], mask=NP.isnan(outvals[psri,:,:]))\n",
    "        pta_psr_parm_vals_normratio[parm][psr] = MA.array(vals_normratio[psri,:,:], mask=NP.isnan(vals_normratio[psri,:,:]))"
   ]
  },
  {
   "cell_type": "code",
   "execution_count": 6,
   "metadata": {},
   "outputs": [
    {
     "name": "stdout",
     "output_type": "stream",
     "text": [
      "[[[-- --]\n",
      "  [0.93010000000000003784 0.15570000000000000506]\n",
      "  [0.54779999999999995364 0.123700000000000004396]\n",
      "  ...\n",
      "  [-- --]\n",
      "  [-- --]\n",
      "  [-- --]]\n",
      "\n",
      " [[2.9118002610457711654 0.25009521605777729203]\n",
      "  [3.079299999999999926 0.08379999999999999949]\n",
      "  [3.08979999999999988 0.058900000000000000966]\n",
      "  ...\n",
      "  [-- --]\n",
      "  [-- --]\n",
      "  [-- --]]\n",
      "\n",
      " [[-- --]\n",
      "  [-- --]\n",
      "  [-- --]\n",
      "  ...\n",
      "  [-- --]\n",
      "  [-- --]\n",
      "  [-- --]]\n",
      "\n",
      " ...\n",
      "\n",
      " [[-- --]\n",
      "  [0.55579999999999996074 1.017700000000000049]\n",
      "  [0.44409999999999999476 0.83079999999999998295]\n",
      "  ...\n",
      "  [-- --]\n",
      "  [-- --]\n",
      "  [-- --]]\n",
      "\n",
      " [[-- --]\n",
      "  [0.49490000000000000657 0.07839999999999999747]\n",
      "  [0.6169999999999999929 0.07929999999999999549]\n",
      "  ...\n",
      "  [-- --]\n",
      "  [-- --]\n",
      "  [-- --]]\n",
      "\n",
      " [[-- --]\n",
      "  [-- --]\n",
      "  [0.97560000000000002274 0.25779999999999997362]\n",
      "  ...\n",
      "  [-- --]\n",
      "  [-- --]\n",
      "  [-- --]]]\n"
     ]
    }
   ],
   "source": [
    "print(pta_psr_parm_vals[parm]['all'])"
   ]
  },
  {
   "cell_type": "code",
   "execution_count": 7,
   "metadata": {
    "scrolled": true
   },
   "outputs": [
    {
     "name": "stdout",
     "output_type": "stream",
     "text": [
      "[[-- --]\n",
      " [0.93010000000000003784 0.15570000000000000506]\n",
      " [0.54779999999999995364 0.123700000000000004396]\n",
      " [0.8294000000000000261 0.30390000000000000346]\n",
      " [-- --]\n",
      " [-- --]\n",
      " [-- --]]\n",
      "----------------------------------\n",
      "[[-- --]\n",
      " [-- --]\n",
      " [-- --]\n",
      " [-- --]\n",
      " [-- --]\n",
      " [-- --]\n",
      " [-- --]\n",
      " [0.9819403284602659099 0.08855325881481700134]\n",
      " [-- --]\n",
      " [-- --]\n",
      " [-- --]\n",
      " [-- --]\n",
      " [-- --]\n",
      " [-- --]\n",
      " [-- --]\n",
      " [-- --]\n",
      " [-- --]\n",
      " [1.2994564849362280068 0.68466421362377039017]\n",
      " [1.6458271025558075529 0.19159136082802938339]\n",
      " [0.8325178997531860192 0.13827396335109337633]\n",
      " [1.8531978141828353568 0.71670385762083488324]\n",
      " [2.1165448511867692716 0.41405625498645654003]\n",
      " [-- --]\n",
      " [0.6229222746982834291 0.36219492948223552808]\n",
      " [-- --]\n",
      " [-- --]\n",
      " [0.43291307403719686553 0.14139981319818384353]\n",
      " [0.5148044038344744555 0.05769162961849686605]\n",
      " [0.59484482712672637206 0.3841695919394861325]\n",
      " [-- --]\n",
      " [-- --]\n",
      " [0.8305728397239359184 0.16830310188866742793]\n",
      " [0.78524815976635164994 0.03321476928861877287]\n",
      " [-- --]\n",
      " [2.0903968451609857837 0.108114052621984466085]\n",
      " [-- --]\n",
      " [-- --]\n",
      " [-- --]\n",
      " [2.4320329656645878202 0.05837515282968183672]\n",
      " [-- --]\n",
      " [-- --]\n",
      " [-- --]\n",
      " [-- --]\n",
      " [-- --]\n",
      " [0.009762607775106939972 0.1952930214224047889]\n",
      " [0.6867703440132367776 0.20686352382604025757]\n",
      " [-- --]\n",
      " [-- --]\n",
      " [-- --]\n",
      " [0.85828616832478155096 0.15638342070543775897]\n",
      " [-- --]\n",
      " [0.85901818498152293646 0.013371943657495834537]\n",
      " [-- --]\n",
      " [-- --]\n",
      " [-- --]\n",
      " [-- --]\n",
      " [-- --]\n",
      " [-- --]\n",
      " [0.19013086320505451221 0.051061041689191004334]\n",
      " [-- --]\n",
      " [-- --]\n",
      " [-- --]\n",
      " [-- --]\n",
      " [-- --]\n",
      " [-- --]\n",
      " [-- --]\n",
      " [-- --]\n",
      " [-- --]\n",
      " [2.211763960950080321 0.20849979422087855374]\n",
      " [0.2873457025688017641 0.16921559862987473055]\n",
      " [1.4034253307311077563 0.106633157512620938]\n",
      " [-- --]\n",
      " [-- --]\n",
      " [-- --]\n",
      " [-- --]\n",
      " [-- --]\n",
      " [-- --]\n",
      " [-- --]\n",
      " [-- --]]\n"
     ]
    }
   ],
   "source": [
    "print(pta_psr_parm_vals[parm]['J0023+0923'])\n",
    "print('----------------------------------')\n",
    "print(pta_psr_parm_vals[parm]['PPTA_DR2'])"
   ]
  },
  {
   "cell_type": "code",
   "execution_count": 8,
   "metadata": {},
   "outputs": [
    {
     "name": "stdout",
     "output_type": "stream",
     "text": [
      "[[[-- --]\n",
      "  [-- --]\n",
      "  [-- --]\n",
      "  ...\n",
      "  [-- --]\n",
      "  [-- --]\n",
      "  [-- --]]\n",
      "\n",
      " [[-- --]\n",
      "  [-- --]\n",
      "  [-- --]\n",
      "  ...\n",
      "  [-- --]\n",
      "  [-- --]\n",
      "  [-- --]]\n",
      "\n",
      " [[-- --]\n",
      "  [-- --]\n",
      "  [-- --]\n",
      "  ...\n",
      "  [-- --]\n",
      "  [-- --]\n",
      "  [-- --]]\n",
      "\n",
      " ...\n",
      "\n",
      " [[-- --]\n",
      "  [-- --]\n",
      "  [-- --]\n",
      "  ...\n",
      "  [-- --]\n",
      "  [-- --]\n",
      "  [-- --]]\n",
      "\n",
      " [[-- --]\n",
      "  [-- --]\n",
      "  [-- --]\n",
      "  ...\n",
      "  [-- --]\n",
      "  [-- --]\n",
      "  [-- --]]\n",
      "\n",
      " [[-- --]\n",
      "  [-- --]\n",
      "  [-- --]\n",
      "  ...\n",
      "  [-- --]\n",
      "  [-- --]\n",
      "  [-- --]]]\n"
     ]
    }
   ],
   "source": [
    "print(pta_psr_parm_vals_normratio[parm]['all'])"
   ]
  },
  {
   "cell_type": "markdown",
   "metadata": {},
   "source": [
    "## Plot: Fractional difference between various PTA estimates for each specified pulsar parameter"
   ]
  },
  {
   "cell_type": "code",
   "execution_count": 9,
   "metadata": {},
   "outputs": [
    {
     "name": "stderr",
     "output_type": "stream",
     "text": [
      "/fred/oz002/nthyagar/src/miniconda3/envs/PTA/lib/python3.7/site-packages/numpy/core/_asarray.py:85: UserWarning: Warning: converting a masked element to nan.\n",
      "  return array(a, dtype, copy=False, order=order)\n"
     ]
    },
    {
     "name": "stdout",
     "output_type": "stream",
     "text": [
      "Saving figure at: /fred/oz002/nthyagar/projects/dr2_ephemerides/outputs/figures/PX_fracdiff.pdf\n"
     ]
    },
    {
     "data": {
      "image/png": "[encoded data removed]",
      "text/plain": [
       "<Figure size 864x324 with 1 Axes>"
      ]
     },
     "metadata": {
      "needs_background": "light"
     },
     "output_type": "display_data"
    }
   ],
   "source": [
    "ptas_to_plot = compare_parms['plot_PTAs']\n",
    "ind_ptas_to_plot = [ptas.tolist().index(pta_to_plot) for pta_to_plot in ptas_to_plot]\n",
    "ptasymbols = ['o', 'd', '^', '*', 'v', '<', 's']\n",
    "ptacolors = ['C0', 'C1', 'C2', 'C3', 'C4', 'C5', 'C6']\n",
    "for parm in psr_parms:\n",
    "    fig = PLT.figure(figsize=(12,4.5))\n",
    "    ax = fig.add_subplot(111)\n",
    "    ax.fill_between(NP.asarray([-10,100]), -1, 1, color='lightgray')\n",
    "    for ptai in ind_ptas_to_plot:\n",
    "        if ptas[ptai] != ref_pta:\n",
    "            ax.errorbar(NP.arange(len(psrnames_simple_union)), pta_psr_parm_vals_normratio[parm]['all'][:,ptai,0], yerr=pta_psr_parm_vals_normratio[parm]['all'][:,ptai,1], ls='none', marker=ptasymbols[ptai], color=ptacolors[ptai], ecolor=ptacolors[ptai], capsize=4, alpha=0.5, label='{0}'.format(ptas[ptai]))\n",
    "    ax.plot(NP.arange(len(psrnames_simple_union)), pta_psr_parm_vals_normratio[parm]['all'][:,ref_pta_ind,0], ls='none', marker='o', mfc='none', mec='black', mew=1, label=ref_pta+' [Ref]')\n",
    "    ax.legend(loc='lower left', ncol=2, shadow=False, fontsize=11, labelspacing=0.2)\n",
    "    ax.set_xlim(-1,len(psrnames_simple_union)+1)\n",
    "    ax.set_xticks(NP.arange(len(psrnames_simple_union)))\n",
    "    ax.set_xticklabels(psrnames_simple_union, rotation='vertical', fontdict={'fontsize': 8, 'ha': 'center', 'va': 'top', 'family': 'serif'})\n",
    "    ax.set_xlabel('Pulsar')\n",
    "    ax.set_ylabel('Fractional Difference in {0}'.format(parm))\n",
    "    fig.subplots_adjust(left=0.05, right=0.99, bottom=0.25, top=0.98)\n",
    "    \n",
    "    PLT.savefig(figdir + '{0}_fracdiff.pdf'.format(parm), bbox_inches=0)\n",
    "    print('Saving figure at: ' + figdir + '{0}_fracdiff.pdf'.format(parm))"
   ]
  },
  {
   "cell_type": "markdown",
   "metadata": {},
   "source": [
    "## Make comparison dictionaries for requested parameters by creating an Astropy table for each"
   ]
  },
  {
   "cell_type": "code",
   "execution_count": 10,
   "metadata": {},
   "outputs": [],
   "source": [
    "psrtables = {}\n",
    "for parm in psr_parms:\n",
    "    tabdict = {pta: pta_psr_parm_vals[parm][pta] for pta in ptas}\n",
    "    psrtables[parm] = Table(copy.deepcopy(tabdict))\n",
    "    psrtables[parm].add_column(Column(psrnames_simple_union, name='PSR'), index=0)"
   ]
  },
  {
   "cell_type": "code",
   "execution_count": 11,
   "metadata": {},
   "outputs": [
    {
     "data": {
      "text/html": [
       "<i>Table length=79</i>\n",
       "<table id=\"table140382415869648-260205\" class=\"table-striped table-bordered table-condensed\">\n",
       "<thead><tr><th>idx</th><th>PSR</th><th>EPTA_DR1 [2]</th><th>NG_11yr [2]</th><th>NG_12.5yr_NB [2]</th><th>NG_12.5yr_WB [2]</th><th>PPTA_DR1 [2]</th><th>PPTA_DR2 [2]</th><th>PPTA_DR2E [2]</th></tr></thead>\n",
       "<tr><td>0</td><td>J0023+0923</td><td>-- .. --</td><td>0.93010000000000003784 .. 0.15570000000000000506</td><td>0.54779999999999995364 .. 0.123700000000000004396</td><td>0.8294000000000000261 .. 0.30390000000000000346</td><td>-- .. --</td><td>-- .. --</td><td>-- .. --</td></tr>\n",
       "<tr><td>1</td><td>J0030+0451</td><td>2.9118002610457711654 .. 0.25009521605777729203</td><td>3.079299999999999926 .. 0.08379999999999999949</td><td>3.08979999999999988 .. 0.058900000000000000966</td><td>3.1356000000000001648 .. 0.06890000000000000291</td><td>-- .. --</td><td>-- .. --</td><td>-- .. --</td></tr>\n",
       "<tr><td>2</td><td>J0034-0534</td><td>-- .. --</td><td>-- .. --</td><td>-- .. --</td><td>-- .. --</td><td>-- .. --</td><td>-- .. --</td><td>-- .. --</td></tr>\n",
       "<tr><td>3</td><td>J0218+4232</td><td>-- .. --</td><td>-- .. --</td><td>-- .. --</td><td>-- .. --</td><td>-- .. --</td><td>-- .. --</td><td>-- .. --</td></tr>\n",
       "<tr><td>4</td><td>J0340+4130</td><td>-- .. --</td><td>0.71389999999999997904 .. 0.4356999999999999762</td><td>0.6481999999999999984 .. 0.40560000000000001608</td><td>0.9980999999999999872 .. 0.3444999999999999729</td><td>-- .. --</td><td>-- .. --</td><td>-- .. --</td></tr>\n",
       "<tr><td>5</td><td>J0437-4715</td><td>-- .. --</td><td>-- .. --</td><td>-- .. --</td><td>-- .. --</td><td>6.373334637440665418 .. 0.086288294189240555276</td><td>-- .. --</td><td>-- .. --</td></tr>\n",
       "<tr><td>6</td><td>J0610-2100</td><td>-- .. --</td><td>-- .. --</td><td>-- .. --</td><td>-- .. --</td><td>-- .. --</td><td>-- .. --</td><td>-- .. --</td></tr>\n",
       "<tr><td>7</td><td>J0613-0200</td><td>1.3063152330513387867 .. 0.15786320035270848261</td><td>0.92920000000000002593 .. 0.19630000000000000226</td><td>0.90220000000000000195 .. 0.113299999999999997935</td><td>0.90690000000000003944 .. 0.11899999999999999467</td><td>0.85861986952944235885 .. 0.122772112656522616736</td><td>0.9819403284602659099 .. 0.08855325881481700134</td><td>0.8727005356907214795 .. 0.16411343272782108471</td></tr>\n",
       "<tr><td>8</td><td>J0621+1002</td><td>-- .. --</td><td>-- .. --</td><td>-- .. --</td><td>-- .. --</td><td>-- .. --</td><td>-- .. --</td><td>-- .. --</td></tr>\n",
       "<tr><td>9</td><td>J0636+5128</td><td>-- .. --</td><td>0.88260000000000005116 .. 0.30140000000000000124</td><td>1.375199999999999978 .. 0.23460000000000000298</td><td>1.348200000000000065 .. 0.22759999999999999676</td><td>-- .. --</td><td>-- .. --</td><td>-- .. --</td></tr>\n",
       "<tr><td>10</td><td>J0645+5158</td><td>-- .. --</td><td>0.8222000000000000419 .. 0.18850000000000000089</td><td>0.81850000000000000533 .. 0.16189999999999998836</td><td>0.82730000000000003535 .. 0.16050000000000000377</td><td>-- .. --</td><td>-- .. --</td><td>-- .. --</td></tr>\n",
       "<tr><td>11</td><td>J0711-6830</td><td>-- .. --</td><td>-- .. --</td><td>-- .. --</td><td>-- .. --</td><td>-- .. --</td><td>-- .. --</td><td>-- .. --</td></tr>\n",
       "<tr><td>12</td><td>J0740+6620</td><td>-- .. --</td><td>2.2978000000000000647 .. 0.64800000000000002043</td><td>0.80369999999999997 .. 0.43819999999999997842</td><td>0.8859000000000000208 .. 0.37440000000000001057</td><td>-- .. --</td><td>-- .. --</td><td>-- .. --</td></tr>\n",
       "<tr><td>13</td><td>J0751+1807</td><td>-- .. --</td><td>-- .. --</td><td>-- .. --</td><td>-- .. --</td><td>-- .. --</td><td>-- .. --</td><td>-- .. --</td></tr>\n",
       "<tr><td>14</td><td>J0900-3144</td><td>1.0224677301263860318 .. 0.64146689669370082765</td><td>-- .. --</td><td>-- .. --</td><td>-- .. --</td><td>-- .. --</td><td>-- .. --</td><td>-- .. --</td></tr>\n",
       "<tr><td>15</td><td>J0931-1902</td><td>-- .. --</td><td>1.2477000000000000313 .. 0.8588999999999999968</td><td>0.651599999999999957 .. 0.6132999999999999563</td><td>0.8330999999999999517 .. 0.5195999999999999508</td><td>-- .. --</td><td>-- .. --</td><td>-- .. --</td></tr>\n",
       "<tr><td>16</td><td>J1012+5307</td><td>0.76401444460396716885 .. 0.19831535926952897908</td><td>1.3200000000000000622 .. 0.44500000000000000666</td><td>1.133899999999999908 .. 0.35399999999999998135</td><td>1.152300000000000102 .. 0.42430000000000001048</td><td>-- .. --</td><td>-- .. --</td><td>-- .. --</td></tr>\n",
       "<tr><td>17</td><td>J1017-7156</td><td>-- .. --</td><td>-- .. --</td><td>-- .. --</td><td>-- .. --</td><td>-- .. --</td><td>1.2994564849362280068 .. 0.68466421362377039017</td><td>-- .. --</td></tr>\n",
       "<tr><td>18</td><td>J1022+1001</td><td>1.3277466879330035443 .. 0.15033019369012062816</td><td>-- .. --</td><td>-- .. --</td><td>-- .. --</td><td>1.105267926311103377 .. 0.20181543512418168018</td><td>1.6458271025558075529 .. 0.19159136082802938339</td><td>1.6513816975292783251 .. 0.19005456004724807784</td></tr>\n",
       "<tr><td>19</td><td>J1024-0719</td><td>1.2042596663789593148 .. 0.33299686814722739836</td><td>0.76359999999999994547 .. 0.22159999999999999143</td><td>0.9976000000000000423 .. 0.21609999999999998654</td><td>0.8811999999999999833 .. 0.21659999999999998699</td><td>0.52635692014564383623 .. 0.22821054682430200189</td><td>0.8325178997531860192 .. 0.13827396335109337633</td><td>0.85850988132519578944 .. 0.14229980711641537772</td></tr>\n",
       "<tr><td>20</td><td>J1045-4509</td><td>-- .. --</td><td>-- .. --</td><td>-- .. --</td><td>-- .. --</td><td>2.2031237090927744404 .. 1.0108244217281849853</td><td>1.8531978141828353568 .. 0.71670385762083488324</td><td>1.52665596171859419 .. 0.6929905865415064703</td></tr>\n",
       "<tr><td>21</td><td>J1125-6014</td><td>-- .. --</td><td>-- .. --</td><td>-- .. --</td><td>-- .. --</td><td>-- .. --</td><td>2.1165448511867692716 .. 0.41405625498645654003</td><td>-- .. --</td></tr>\n",
       "<tr><td>22</td><td>J1125+7819</td><td>-- .. --</td><td>10.8079999999999998295 .. 7.561700000000000088</td><td>-0.71370000000000000107 .. 3.4131000000000000227</td><td>-2.3816000000000001613 .. 3.1802000000000001378</td><td>-- .. --</td><td>-- .. --</td><td>-- .. --</td></tr>\n",
       "<tr><td>23</td><td>J1446-4701</td><td>-- .. --</td><td>-- .. --</td><td>-- .. --</td><td>-- .. --</td><td>-- .. --</td><td>0.6229222746982834291 .. 0.36219492948223552808</td><td>-- .. --</td></tr>\n",
       "<tr><td>24</td><td>J1453+1902</td><td>-- .. --</td><td>-3.4931000000000000938 .. 1.6216999999999999194</td><td>-1.1107000000000000206 .. 0.86899999999999999467</td><td>-0.7863999999999999879 .. 0.9071000000000000174</td><td>-- .. --</td><td>-- .. --</td><td>-- .. --</td></tr>\n",
       "<tr><td>25</td><td>J1455-3330</td><td>0.8019109670460533579 .. 0.32810578333190382194</td><td>-0.071499999999999994116 .. 0.38890000000000002345</td><td>0.13619999999999998774 .. 0.4010000000000000231</td><td>0.39329999999999998295 .. 0.34679999999999999716</td><td>-- .. --</td><td>-- .. --</td><td>-- .. --</td></tr>\n",
       "<tr><td>26</td><td>J1545-4550</td><td>-- .. --</td><td>-- .. --</td><td>-- .. --</td><td>-- .. --</td><td>-- .. --</td><td>0.43291307403719686553 .. 0.14139981319818384353</td><td>-- .. --</td></tr>\n",
       "<tr><td>27</td><td>J1600-3053</td><td>0.79833389402101362364 .. 0.078789940116708617746</td><td>0.50390000000000001457 .. 0.07349999999999999589</td><td>0.50860000000000005205 .. 0.081000000000000002554</td><td>0.5122999999999999776 .. 0.08419999999999999707</td><td>0.48375479224374673404 .. 0.10632505763245156394</td><td>0.5148044038344744555 .. 0.05769162961849686605</td><td>0.57940187197559267496 .. 0.061680906631769033543</td></tr>\n",
       "<tr><td>28</td><td>J1603-7202</td><td>-- .. --</td><td>-- .. --</td><td>-- .. --</td><td>-- .. --</td><td>1.0626233062556300624 .. 0.72392486528002841784</td><td>0.59484482712672637206 .. 0.3841695919394861325</td><td>0.49699427884893310203 .. 0.37308357837194250362</td></tr>\n",
       "<tr><td>29</td><td>J1614-2230</td><td>-- .. --</td><td>1.4986999999999999211 .. 0.095699999999999993405</td><td>1.5430999999999999162 .. 0.0989000000000000018</td><td>1.5827999999999999847 .. 0.091999999999999998446</td><td>-- .. --</td><td>-- .. --</td><td>-- .. --</td></tr>\n",
       "<tr><td>30</td><td>J1640+2224</td><td>-- .. --</td><td>0.21470000000000000195 .. 0.40949999999999997513</td><td>0.7633999999999999675 .. 0.2732999999999999874</td><td>0.562599999999999989 .. 0.28449999999999997513</td><td>-- .. --</td><td>-- .. --</td><td>-- .. --</td></tr>\n",
       "<tr><td>31</td><td>J1643-1224</td><td>0.7630565076703759164 .. 0.23937481727477580296</td><td>0.70499999999999996003 .. 0.88519999999999998685</td><td>0.46029999999999998694 .. 0.6902000000000000357</td><td>0.31859999999999999432 .. 0.70299999999999995826</td><td>1.2729105320714129146 .. 0.18841567902171441062</td><td>0.8305728397239359184 .. 0.16830310188866742793</td><td>0.82231209048155906594 .. 0.16483377903721160851</td></tr>\n",
       "<tr><td>32</td><td>J1713+0747</td><td>0.9279421084785711704 .. 0.028793481813821564935</td><td>0.82110000000000005205 .. 0.025800000000000000017</td><td>0.8322000000000000508 .. 0.024699999999999999734</td><td>0.82640000000000002345 .. 0.022999999999999999611</td><td>0.8648176941900120873 .. 0.08204332894712816626</td><td>0.78524815976635164994 .. 0.03321476928861877287</td><td>0.7854462319714761165 .. 0.02088640997267201399</td></tr>\n",
       "<tr><td>33</td><td>J1721-2457</td><td>-- .. --</td><td>-- .. --</td><td>-- .. --</td><td>-- .. --</td><td>-- .. --</td><td>-- .. --</td><td>-- .. --</td></tr>\n",
       "<tr><td>34</td><td>J1730-2304</td><td>-- .. --</td><td>-- .. --</td><td>-- .. --</td><td>-- .. --</td><td>1.4706837448598966134 .. 0.25753692214084172862</td><td>2.0903968451609857837 .. 0.108114052621984466085</td><td>2.1110128763752942227 .. 0.10736943558179239122</td></tr>\n",
       "<tr><td>35</td><td>J1732-5049</td><td>-- .. --</td><td>-- .. --</td><td>-- .. --</td><td>-- .. --</td><td>-- .. --</td><td>-- .. --</td><td>-- .. --</td></tr>\n",
       "<tr><td>36</td><td>J1738+0333</td><td>-- .. --</td><td>0.38860000000000000098 .. 0.27889999999999998126</td><td>0.42220000000000001972 .. 0.21990000000000001212</td><td>0.41849999999999998312 .. 0.22429999999999999938</td><td>-- .. --</td><td>-- .. --</td><td>-- .. --</td></tr>\n",
       "<tr><td>37</td><td>J1741+1351</td><td>-- .. --</td><td>0.56389999999999995683 .. 0.12900000000000000355</td><td>0.42280000000000000915 .. 0.11129999999999999616</td><td>0.40110000000000001208 .. 0.15190000000000000724</td><td>-- .. --</td><td>-- .. --</td><td>-- .. --</td></tr>\n",
       "<tr><td>38</td><td>J1744-1134</td><td>2.2631053285732738445 .. 0.07507032286452272607</td><td>2.2905999999999999694 .. 0.11189999999999999947</td><td>2.3799000000000001265 .. 0.098799999999999998934</td><td>2.3900000000000001243 .. 0.10080000000000000071</td><td>2.5263986937805262833 .. 0.067849092422717652284</td><td>2.4320329656645878202 .. 0.05837515282968183672</td><td>2.4334078368337723752 .. 0.05665419928796144866</td></tr>\n",
       "<tr><td>39</td><td>J1747-4036</td><td>-- .. --</td><td>-0.36039999999999999813 .. 1.4254999999999999893</td><td>0.10140000000000000402 .. 0.6377000000000000446</td><td>-0.31769999999999998241 .. 0.633900000000000019</td><td>-- .. --</td><td>-- .. --</td><td>-- .. --</td></tr>\n",
       "<tr><td>40</td><td>J1751-2857</td><td>-- .. --</td><td>-- .. --</td><td>-- .. --</td><td>-- .. --</td><td>-- .. --</td><td>-- .. --</td><td>-- .. --</td></tr>\n",
       "<tr><td>41</td><td>J1801-1417</td><td>-- .. --</td><td>-- .. --</td><td>-- .. --</td><td>-- .. --</td><td>-- .. --</td><td>-- .. --</td><td>-- .. --</td></tr>\n",
       "<tr><td>42</td><td>J1802-2124</td><td>-- .. --</td><td>-- .. --</td><td>-- .. --</td><td>-- .. --</td><td>-- .. --</td><td>-- .. --</td><td>-- .. --</td></tr>\n",
       "<tr><td>43</td><td>J1804-2717</td><td>-- .. --</td><td>-- .. --</td><td>-- .. --</td><td>-- .. --</td><td>-- .. --</td><td>-- .. --</td><td>-- .. --</td></tr>\n",
       "<tr><td>44</td><td>J1824-2452A</td><td>-- .. --</td><td>-- .. --</td><td>-- .. --</td><td>-- .. --</td><td>-- .. --</td><td>0.009762607775106939972 .. 0.1952930214224047889</td><td>0.009481081818361072194 .. 0.19528276060437413375</td></tr>\n",
       "<tr><td>45</td><td>J1832-0836</td><td>-- .. --</td><td>0.35130000000000000115 .. 0.14929999999999998828</td><td>0.47570000000000001172 .. 0.13039999999999998814</td><td>0.49419999999999997264 .. 0.11859999999999999709</td><td>-- .. --</td><td>0.6867703440132367776 .. 0.20686352382604025757</td><td>-- .. --</td></tr>\n",
       "<tr><td>46</td><td>J1843-1113</td><td>-- .. --</td><td>-- .. --</td><td>-- .. --</td><td>-- .. --</td><td>-- .. --</td><td>-- .. --</td><td>-- .. --</td></tr>\n",
       "<tr><td>47</td><td>J1853+1303</td><td>-- .. --</td><td>0.44690000000000001945 .. 0.225500000000000006</td><td>0.48080000000000000515 .. 0.14519999999999999574</td><td>0.40500000000000002665 .. 0.20169999999999999041</td><td>-- .. --</td><td>-- .. --</td><td>-- .. --</td></tr>\n",
       "<tr><td>48</td><td>B1855+09</td><td>-- .. --</td><td>0.61299999999999998934 .. 0.17569999999999999507</td><td>0.71489999999999997993 .. 0.12170000000000000262</td><td>0.7135000000000000231 .. 0.1221000000000000002</td><td>-- .. --</td><td>-- .. --</td><td>-- .. --</td></tr>\n",
       "<tr><td>49</td><td>J1857+0943</td><td>0.6412687628860498368 .. 0.32724053375548534106</td><td>-- .. --</td><td>-- .. --</td><td>-- .. --</td><td>0.45758626502295624006 .. 0.23799825352123124556</td><td>0.85828616832478155096 .. 0.15638342070543775897</td><td>0.858313426630965548 .. 0.15638293922619514453</td></tr>\n",
       "<tr><td>50</td><td>J1903+0327</td><td>-- .. --</td><td>0.20519999999999999352 .. 0.94589999999999996305</td><td>1.5722000000000000419 .. 0.8758000000000000229</td><td>1.1482000000000001094 .. 0.6999999999999999556</td><td>-- .. --</td><td>-- .. --</td><td>-- .. --</td></tr>\n",
       "<tr><td>51</td><td>J1909-3744</td><td>0.92948776512088571167 .. 0.024278892246866450727</td><td>0.9176999999999999602 .. 0.029499999999999998446</td><td>0.88429999999999997495 .. 0.019800000000000001626</td><td>0.8947000000000000508 .. 0.021200000000000000094</td><td>0.8098781927103919642 .. 0.027855990033615860707</td><td>0.85901818498152293646 .. 0.013371943657495834537</td><td>0.8570513239426422736 .. 0.0132415473294071311255</td></tr>\n",
       "<tr><td>52</td><td>J1910+1256</td><td>-- .. --</td><td>-0.7614999999999999547 .. 0.41760000000000002673</td><td>-0.1759000000000000008 .. 0.2670000000000000151</td><td>-0.12759999999999999121 .. 0.2955999999999999739</td><td>-- .. --</td><td>-- .. --</td><td>-- .. --</td></tr>\n",
       "<tr><td>53</td><td>J1911-1114</td><td>-- .. --</td><td>-- .. --</td><td>-- .. --</td><td>-- .. --</td><td>-- .. --</td><td>-- .. --</td><td>-- .. --</td></tr>\n",
       "<tr><td>54</td><td>J1911+1347</td><td>-- .. --</td><td>0.42449999999999998845 .. 0.16500000000000000777</td><td>0.18110000000000001097 .. 0.100900000000000003575</td><td>0.14039999999999999702 .. 0.12420000000000000484</td><td>-- .. --</td><td>-- .. --</td><td>-- .. --</td></tr>\n",
       "<tr><td>55</td><td>J1918-0642</td><td>-- .. --</td><td>0.88619999999999998774 .. 0.118699999999999999956</td><td>0.85250000000000003553 .. 0.11150000000000000189</td><td>0.991099999999999981 .. 0.12520000000000000573</td><td>-- .. --</td><td>-- .. --</td><td>-- .. --</td></tr>\n",
       "<tr><td>56</td><td>J1923+2515</td><td>-- .. --</td><td>1.2223999999999999311 .. 0.41560000000000002496</td><td>0.84599999999999997424 .. 0.29709999999999997522</td><td>0.92720000000000002416 .. 0.27779999999999999138</td><td>-- .. --</td><td>-- .. --</td><td>-- .. --</td></tr>\n",
       "<tr><td>57</td><td>B1937+21</td><td>-- .. --</td><td>0.15149999999999999578 .. 0.08480000000000000038</td><td>0.28189999999999998392 .. 0.0509000000000000008</td><td>0.37130000000000001892 .. 0.06890000000000000291</td><td>-- .. --</td><td>-- .. --</td><td>-- .. --</td></tr>\n",
       "<tr><td>58</td><td>J1939+2134</td><td>-- .. --</td><td>-- .. --</td><td>-- .. --</td><td>-- .. --</td><td>0.52067597748453509077 .. 0.15588945446414917417</td><td>0.19013086320505451221 .. 0.051061041689191004334</td><td>0.2585774795368003809 .. 0.077188530554990947286</td></tr>\n",
       "<tr><td>59</td><td>J1944+0907</td><td>-- .. --</td><td>0.49749999999999999778 .. 0.25740000000000001767</td><td>0.56659999999999999254 .. 0.21060000000000000941</td><td>0.6845999999999999863 .. 0.23119999999999998885</td><td>-- .. --</td><td>-- .. --</td><td>-- .. --</td></tr>\n",
       "<tr><td>60</td><td>J1946+3417</td><td>-- .. --</td><td>-- .. --</td><td>-0.32790000000000002478 .. 0.94879999999999997673</td><td>0.19020000000000000795 .. 1.0553999999999998938</td><td>-- .. --</td><td>-- .. --</td><td>-- .. --</td></tr>\n",
       "<tr><td>61</td><td>B1953+29</td><td>-- .. --</td><td>-0.67559999999999997833 .. 1.2305999999999999162</td><td>-0.13489999999999999214 .. 0.60140000000000004565</td><td>-0.054600000000000002698 .. 0.82899999999999995914</td><td>-- .. --</td><td>-- .. --</td><td>-- .. --</td></tr>\n",
       "<tr><td>62</td><td>J1955+2908</td><td>-- .. --</td><td>-- .. --</td><td>-- .. --</td><td>-- .. --</td><td>-- .. --</td><td>-- .. --</td><td>-- .. --</td></tr>\n",
       "<tr><td>63</td><td>J2010-1323</td><td>-- .. --</td><td>0.3454999999999999738 .. 0.14960000000000001075</td><td>0.40829999999999999627 .. 0.119300000000000003264</td><td>0.3830000000000000071 .. 0.12289999999999999536</td><td>-- .. --</td><td>-- .. --</td><td>-- .. --</td></tr>\n",
       "<tr><td>64</td><td>J2017+0603</td><td>-- .. --</td><td>0.39079999999999998073 .. 0.23639999999999999902</td><td>0.2795000000000000262 .. 0.21709999999999998743</td><td>0.35110000000000002318 .. 0.20319999999999999174</td><td>-- .. --</td><td>-- .. --</td><td>-- .. --</td></tr>\n",
       "<tr><td>65</td><td>J2019+2425</td><td>-- .. --</td><td>-- .. --</td><td>-- .. --</td><td>-- .. --</td><td>-- .. --</td><td>-- .. --</td><td>-- .. --</td></tr>\n",
       "<tr><td>66</td><td>J2033+1734</td><td>-- .. --</td><td>-0.71489999999999997993 .. 1.142800000000000038</td><td>0.990900000000000003 .. 0.55849999999999999645</td><td>0.80940000000000000835 .. 0.5583000000000000185</td><td>-- .. --</td><td>-- .. --</td><td>-- .. --</td></tr>\n",
       "<tr><td>67</td><td>J2043+1711</td><td>-- .. --</td><td>0.63790000000000002256 .. 0.07779999999999999416</td><td>0.7215000000000000302 .. 0.0625</td><td>0.6723999999999999977 .. 0.049200000000000000677</td><td>-- .. --</td><td>-- .. --</td><td>-- .. --</td></tr>\n",
       "<tr><td>68</td><td>J2124-3358</td><td>2.3898981558239151823 .. 0.40955887456255951617</td><td>-- .. --</td><td>-- .. --</td><td>-- .. --</td><td>2.4263085154909016516 .. 0.3057049448117757362</td><td>2.211763960950080321 .. 0.20849979422087855374</td><td>2.526632938638896153 .. 0.19972155420966614114</td></tr>\n",
       "<tr><td>69</td><td>J2129-5721</td><td>-- .. --</td><td>-- .. --</td><td>-- .. --</td><td>-- .. --</td><td>-- .. --</td><td>0.2873457025688017641 .. 0.16921559862987473055</td><td>0.3477339673694530564 .. 0.16487512739405987827</td></tr>\n",
       "<tr><td>70</td><td>J2145-0750</td><td>1.5083286060849889765 .. 0.1531106824431530955</td><td>1.5830999999999999517 .. 0.4052999999999999936</td><td>1.2392000000000000792 .. 0.20260000000000000231</td><td>1.2940000000000000391 .. 0.3062000000000000277</td><td>1.8401914751533525738 .. 0.1670911388465100289</td><td>1.4034253307311077563 .. 0.106633157512620938</td><td>1.461104040137197746 .. 0.103369368922093321506</td></tr>\n",
       "<tr><td>71</td><td>J2214+3000</td><td>-- .. --</td><td>2.339700000000000113 .. 0.6618000000000000549</td><td>1.6976999999999999869 .. 0.544699999999999962</td><td>2.285099999999999909 .. 0.6205000000000000515</td><td>-- .. --</td><td>-- .. --</td><td>-- .. --</td></tr>\n",
       "<tr><td>72</td><td>J2229+2643</td><td>-- .. --</td><td>0.82720000000000004636 .. 0.6331999999999999851</td><td>0.21849999999999999978 .. 0.24970000000000000528</td><td>0.36409999999999997922 .. 0.33689999999999997726</td><td>-- .. --</td><td>-- .. --</td><td>-- .. --</td></tr>\n",
       "<tr><td>73</td><td>J2234+0611</td><td>-- .. --</td><td>0.65659999999999996145 .. 0.19630000000000000226</td><td>0.8384000000000000341 .. 0.102099999999999996314</td><td>0.5341000000000000192 .. 0.14360000000000000542</td><td>-- .. --</td><td>-- .. --</td><td>-- .. --</td></tr>\n",
       "<tr><td>74</td><td>J2234+0944</td><td>-- .. --</td><td>1.3180000000000000604 .. 0.40589999999999998304</td><td>0.6945999999999999952 .. 0.23719999999999999418</td><td>1.4215999999999999748 .. 0.28539999999999998703</td><td>-- .. --</td><td>-- .. --</td><td>-- .. --</td></tr>\n",
       "<tr><td>75</td><td>J2241-5236</td><td>-- .. --</td><td>-- .. --</td><td>-- .. --</td><td>-- .. --</td><td>-- .. --</td><td>-- .. --</td><td>-- .. --</td></tr>\n",
       "<tr><td>76</td><td>J2302+4442</td><td>-- .. --</td><td>0.55579999999999996074 .. 1.017700000000000049</td><td>0.44409999999999999476 .. 0.83079999999999998295</td><td>-0.090800000000000005707 .. 0.90680000000000005045</td><td>-- .. --</td><td>-- .. --</td><td>-- .. --</td></tr>\n",
       "<tr><td>77</td><td>J2317+1439</td><td>-- .. --</td><td>0.49490000000000000657 .. 0.07839999999999999747</td><td>0.6169999999999999929 .. 0.07929999999999999549</td><td>0.616099999999999981 .. 0.092600000000000001754</td><td>-- .. --</td><td>-- .. --</td><td>-- .. --</td></tr>\n",
       "<tr><td>78</td><td>J2322+2057</td><td>-- .. --</td><td>-- .. --</td><td>0.97560000000000002274 .. 0.25779999999999997362</td><td>0.955500000000000016 .. 0.25959999999999999742</td><td>-- .. --</td><td>-- .. --</td><td>-- .. --</td></tr>\n",
       "</table><style>table.dataTable {clear: both; width: auto !important; margin: 0 !important;}\n",
       ".dataTables_info, .dataTables_length, .dataTables_filter, .dataTables_paginate{\n",
       "display: inline-block; margin-right: 1em; }\n",
       ".paginate_button { margin-right: 5px; }\n",
       "</style>\n",
       "<script>\n",
       "\n",
       "var astropy_sort_num = function(a, b) {\n",
       "    var a_num = parseFloat(a);\n",
       "    var b_num = parseFloat(b);\n",
       "\n",
       "    if (isNaN(a_num) && isNaN(b_num))\n",
       "        return ((a < b) ? -1 : ((a > b) ? 1 : 0));\n",
       "    else if (!isNaN(a_num) && !isNaN(b_num))\n",
       "        return ((a_num < b_num) ? -1 : ((a_num > b_num) ? 1 : 0));\n",
       "    else\n",
       "        return isNaN(a_num) ? -1 : 1;\n",
       "}\n",
       "\n",
       "require.config({paths: {\n",
       "    datatables: 'https://cdn.datatables.net/1.10.12/js/jquery.dataTables.min'\n",
       "}});\n",
       "require([\"datatables\"], function(){\n",
       "    console.log(\"$('#table140382415869648-260205').dataTable()\");\n",
       "    \n",
       "jQuery.extend( jQuery.fn.dataTableExt.oSort, {\n",
       "    \"optionalnum-asc\": astropy_sort_num,\n",
       "    \"optionalnum-desc\": function (a,b) { return -astropy_sort_num(a, b); }\n",
       "});\n",
       "\n",
       "    $('#table140382415869648-260205').dataTable({\n",
       "        order: [],\n",
       "        pageLength: 100,\n",
       "        lengthMenu: [[10, 25, 50, 100, 500, 1000, -1], [10, 25, 50, 100, 500, 1000, 'All']],\n",
       "        pagingType: \"full_numbers\",\n",
       "        columnDefs: [{targets: [0, 2, 3, 4, 5, 6, 7, 8], type: \"optionalnum\"}]\n",
       "    });\n",
       "});\n",
       "</script>\n"
      ],
      "text/plain": [
       "<IPython.core.display.HTML object>"
      ]
     },
     "execution_count": 11,
     "metadata": {},
     "output_type": "execute_result"
    }
   ],
   "source": [
    "psrtables[parm].show_in_notebook(display_length=100)"
   ]
  },
  {
   "cell_type": "code",
   "execution_count": null,
   "metadata": {},
   "outputs": [],
   "source": []
  }
 ],
 "metadata": {
  "kernelspec": {
   "display_name": "Python 3",
   "language": "python",
   "name": "python3"
  },
  "language_info": {
   "codemirror_mode": {
    "name": "ipython",
    "version": 3
   },
   "file_extension": ".py",
   "mimetype": "text/x-python",
   "name": "python",
   "nbconvert_exporter": "python",
   "pygments_lexer": "ipython3",
   "version": "3.7.7"
  }
 },
 "nbformat": 4,
 "nbformat_minor": 4
}
